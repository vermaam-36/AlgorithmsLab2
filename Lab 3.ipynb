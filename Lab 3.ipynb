{
 "cells": [
  {
   "cell_type": "markdown",
   "metadata": {},
   "source": [
    "# Lab 3: Selection Problem\n",
    "## CS 3851 Algorithms\n",
    "## Amish Verma, Dylan Schultz, Gavin Vaubel, Michael Salgado"
   ]
  },
  {
   "cell_type": "markdown",
   "metadata": {},
   "source": [
    "## Introduction\n"
   ]
  },
  {
   "cell_type": "markdown",
   "metadata": {},
   "source": [
    "## Imports"
   ]
  },
  {
   "cell_type": "code",
   "execution_count": 1,
   "metadata": {},
   "outputs": [],
   "source": [
    "import matplotlib.pyplot as plt\n",
    "import numpy as np\n",
    "import random\n",
    "import time\n",
    "import math"
   ]
  },
  {
   "cell_type": "markdown",
   "metadata": {},
   "source": [
    "## 1. Problem Approach\n"
   ]
  },
  {
   "cell_type": "markdown",
   "metadata": {},
   "source": [
    "## 2. Psuedocode"
   ]
  },
  {
   "cell_type": "code",
   "execution_count": null,
   "metadata": {},
   "outputs": [],
   "source": []
  },
  {
   "cell_type": "markdown",
   "metadata": {},
   "source": [
    "## 3. Explanation and Justification for Algorithm"
   ]
  },
  {
   "cell_type": "markdown",
   "metadata": {},
   "source": [
    "Our algorithm works similar to a regular quick sort with a few changes. Like quick sort with random pivots, a pivot position is selected randomly, and the list is partitioned with less valuable elements to the left and more valuable elements to the right. Where it differs from quick sort is after the list has been partitioned, it checks if the input for k is less than or greater than the pivot index and adjusts the start and end of the list artificially to focus in on a closer section. This is then done recursively until it gets to the point where the pivot after partitioning is equal to k – 1, which accommodates for the 0 based index list.\n",
    "\n",
    "A few problems with this were the original plan we had was to shrink the list instead of changing the start and end indices, and this caused problems with the index being out of bounds sometimes. Then, when we changed to use start and end, there were problem instances where start would be greater than end and throw an error. The solution to this problem was to swap start and end when this happened, which fixed all issues remaining with the code. Now, given any random list of any random size, it will return the expected index and does not sort the entire list to reach it."
   ]
  },
  {
   "cell_type": "markdown",
   "metadata": {},
   "source": [
    "### Implementation"
   ]
  },
  {
   "cell_type": "code",
   "execution_count": 2,
   "metadata": {},
   "outputs": [],
   "source": [
    "def find_min(k, arr, start, end):\n",
    "    if len(arr) >= 1:\n",
    "        if start > end:\n",
    "            start, end = end, start\n",
    "        pickRand(arr, start, end)\n",
    "\n",
    "        pivot = sort_around_pivot(arr[0], arr)\n",
    "        if pivot == k - 1:\n",
    "            return arr[pivot]\n",
    "\n",
    "        if k - 1 < pivot:\n",
    "            return find_min(k, arr, 0, pivot - 1)\n",
    "\n",
    "        else:\n",
    "            return find_min(k, arr, pivot + 1, end - 1)"
   ]
  },
  {
   "cell_type": "code",
   "execution_count": 3,
   "metadata": {},
   "outputs": [],
   "source": [
    "'''\n",
    "function chooses a random pivot position and swaps index 0 with it\n",
    "'''\n",
    "def pickRand(arr, start, end):\n",
    "    randomIndex = random.randint(start, end)\n",
    "    arr[0], arr[randomIndex] = arr[randomIndex], arr[0]\n",
    "    # print(arr)\n",
    "\n",
    "    return"
   ]
  },
  {
   "cell_type": "code",
   "execution_count": 4,
   "metadata": {},
   "outputs": [],
   "source": [
    "'''\n",
    "function will sort around the pivot position putting elements less than pivot\n",
    "to the left and elements greater than on the right\n",
    "code from \n",
    "https://www.geeksforgeeks.org/quicksort-using-random-pivoting/\n",
    "'''\n",
    "def sort_around_pivot(pivot, arr):\n",
    "    start = 0\n",
    "    stop = len(arr) - 1\n",
    "    pivot = start  # pivot\n",
    "\n",
    "    # a variable to memorize where the\n",
    "    i = start + 1\n",
    "\n",
    "    # partition in the array starts from.\n",
    "    for j in range(start + 1, stop + 1):\n",
    "\n",
    "        # if the current element is smaller\n",
    "        # or equal to pivot, shift it to the\n",
    "        # left side of the partition.\n",
    "        if arr[j] <= arr[pivot]:\n",
    "            arr[i], arr[j] = arr[j], arr[i]\n",
    "            i = i + 1\n",
    "    arr[pivot], arr[i - 1] = \\\n",
    "        arr[i - 1], arr[pivot]\n",
    "    pivot = i - 1\n",
    "    return pivot"
   ]
  },
  {
   "cell_type": "markdown",
   "metadata": {},
   "source": [
    "## 4. Test Case Results (where n = 10)\n",
    "\n",
    "Test case runs can be found in the appendix"
   ]
  },
  {
   "cell_type": "markdown",
   "metadata": {},
   "source": [
    "| Test Case | Expected Output | Algorithm Output |\n",
    "| --- | --- | --- |\n",
    "| Reverse Sorted List (n to 0) finding k = 1 | 0 | 0 |\n",
    "| Sorted List (0 to n) finding k = 1 | 0 | 0 |\n",
    "| Random List (n elements) finding k = 1 | 0 | 0 |\n",
    "| Reverse Sorted List (n to 0) finding k = n/2 | 4 | 4 |\n",
    "| Sorted List (0 to n) finding k = n/2 | 4 | 4 |\n",
    "| Random List (n elements) finding k = n/2 | 4 | 4 |\n",
    "| Reverse Sorted List (n to 0) finding k = n | 9 | 9 |\n",
    "| Sorted List (0 to n) finding k = n | 9 | 9 |\n",
    "| Random List (n elements) finding k = n | 9 | 9 |"
   ]
  },
  {
   "cell_type": "markdown",
   "metadata": {},
   "source": [
    "## 5. Analysis using asymptotic notation"
   ]
  },
  {
   "cell_type": "markdown",
   "metadata": {},
   "source": [
    "## 6. Solving recurrence relation"
   ]
  },
  {
   "cell_type": "markdown",
   "metadata": {},
   "source": [
    "## 7. Benchmarking"
   ]
  },
  {
   "cell_type": "code",
   "execution_count": 5,
   "metadata": {},
   "outputs": [],
   "source": [
    "benchmark_sizes = [10, 100, 1000, 10000, 100000]"
   ]
  },
  {
   "cell_type": "code",
   "execution_count": 6,
   "metadata": {},
   "outputs": [],
   "source": [
    "def benchmark(arr, k, method):\n",
    "    if method:\n",
    "        start_time = time.perf_counter()\n",
    "        boringWay(arr, k)\n",
    "        end_time = time.perf_counter()\n",
    "        return end_time - start_time\n",
    "    else:\n",
    "        start_time = time.perf_counter()\n",
    "        find_min(k, arr, 0, len(arr) - 1)\n",
    "        end_time = time.perf_counter()\n",
    "        return end_time - start_time"
   ]
  },
  {
   "cell_type": "markdown",
   "metadata": {},
   "source": [
    "### Creating benchmark lists"
   ]
  },
  {
   "cell_type": "code",
   "execution_count": 7,
   "metadata": {},
   "outputs": [],
   "source": [
    "def create_reverse(n):\n",
    "    arr = []\n",
    "    index = 0\n",
    "    for x in range(n-1, -1, -1):\n",
    "        arr.insert(index, x)\n",
    "        index += 1\n",
    "    return arr\n",
    "\n",
    "def create_sorted(n):\n",
    "    arr = []\n",
    "    for x in range(0, n):\n",
    "        arr.append(x)\n",
    "    return arr\n",
    "\n",
    "def create_random(n):\n",
    "    arr = random.sample(range(0, n), n)\n",
    "    return arr"
   ]
  },
  {
   "cell_type": "markdown",
   "metadata": {},
   "source": [
    "### Benchmarking reverse sorted lists"
   ]
  },
  {
   "cell_type": "code",
   "execution_count": 8,
   "metadata": {},
   "outputs": [],
   "source": [
    "reverse_k_last_times = []\n",
    "reverse_k_mid_times = []\n",
    "reverse_k_first_times = []\n",
    "\n",
    "for size in benchmark_sizes:\n",
    "    rev_list = create_reverse(size)\n",
    "    \n",
    "    k_last_time = benchmark(rev_list, len(rev_list), False)\n",
    "    reverse_k_last_times.append(k_last_time)\n",
    "    \n",
    "    k_mid_time = benchmark(rev_list, int(len(rev_list)/2), False)\n",
    "    reverse_k_mid_times.append(k_mid_time)\n",
    "\n",
    "    k_first_time = benchmark(rev_list, 1, False)\n",
    "    reverse_k_first_times.append(k_first_time)"
   ]
  },
  {
   "cell_type": "code",
   "execution_count": 9,
   "metadata": {},
   "outputs": [
    {
     "data": {
      "text/plain": [
       "<matplotlib.legend.Legend at 0x7efee9bec9e8>"
      ]
     },
     "execution_count": 9,
     "metadata": {},
     "output_type": "execute_result"
    },
    {
     "data": {
      "image/png": "[encoded data removed]",
      "text/plain": [
       "<Figure size 432x288 with 1 Axes>"
      ]
     },
     "metadata": {
      "needs_background": "light"
     },
     "output_type": "display_data"
    }
   ],
   "source": [
    "default_x_ticks = range(len(benchmark_sizes))\n",
    "plt.plot(default_x_ticks, reverse_k_last_times, label=\"k = n\")\n",
    "plt.plot(default_x_ticks, reverse_k_mid_times, label=\"k = n/2\")\n",
    "plt.plot(default_x_ticks, reverse_k_first_times, label=\"k = 1\")\n",
    "plt.xticks(default_x_ticks, benchmark_sizes)\n",
    "\n",
    "plt.xlabel(\"List Size\", fontsize=18)\n",
    "plt.ylabel(\"Run Time (s)\", fontsize=18)\n",
    "plt.title(\"Reverse Sorted List\", fontsize=20)\n",
    "plt.legend()"
   ]
  },
  {
   "cell_type": "markdown",
   "metadata": {},
   "source": [
    "### Benchmarking sorted lists"
   ]
  },
  {
   "cell_type": "code",
   "execution_count": 10,
   "metadata": {},
   "outputs": [],
   "source": [
    "sorted_k_last_times = []\n",
    "sorted_k_mid_times = []\n",
    "sorted_k_first_times = []\n",
    "\n",
    "for size in benchmark_sizes:\n",
    "    rev_list = create_sorted(size)\n",
    "    \n",
    "    k_last_time = benchmark(rev_list, len(rev_list), False)\n",
    "    sorted_k_last_times.append(k_last_time)\n",
    "    \n",
    "    k_mid_time = benchmark(rev_list, int(len(rev_list)/2), False)\n",
    "    sorted_k_mid_times.append(k_mid_time)\n",
    "\n",
    "    k_first_time = benchmark(rev_list, 1, False)\n",
    "    sorted_k_first_times.append(k_first_time)"
   ]
  },
  {
   "cell_type": "code",
   "execution_count": 11,
   "metadata": {},
   "outputs": [
    {
     "data": {
      "text/plain": [
       "<matplotlib.legend.Legend at 0x7efeea4409b0>"
      ]
     },
     "execution_count": 11,
     "metadata": {},
     "output_type": "execute_result"
    },
    {
     "data": {
      "image/png": "[encoded data removed]",
      "text/plain": [
       "<Figure size 432x288 with 1 Axes>"
      ]
     },
     "metadata": {
      "needs_background": "light"
     },
     "output_type": "display_data"
    }
   ],
   "source": [
    "default_x_ticks = range(len(benchmark_sizes))\n",
    "plt.plot(default_x_ticks, sorted_k_last_times, label=\"k = n\")\n",
    "plt.plot(default_x_ticks, sorted_k_mid_times, label=\"k = n/2\")\n",
    "plt.plot(default_x_ticks, sorted_k_first_times, label=\"k = 1\")\n",
    "plt.xticks(default_x_ticks, benchmark_sizes)\n",
    "\n",
    "plt.xlabel(\"List Size\", fontsize=18)\n",
    "plt.ylabel(\"Run Time (s)\", fontsize=18)\n",
    "plt.title(\"Sorted List\", fontsize=20)\n",
    "plt.legend()"
   ]
  },
  {
   "cell_type": "markdown",
   "metadata": {},
   "source": [
    "### Benchmarking random lists"
   ]
  },
  {
   "cell_type": "code",
   "execution_count": 12,
   "metadata": {},
   "outputs": [],
   "source": [
    "random_k_last_times = []\n",
    "random_k_mid_times = []\n",
    "random_k_first_times = []\n",
    "\n",
    "for size in benchmark_sizes:\n",
    "    rev_list = create_random(size)\n",
    "    \n",
    "    k_last_time = benchmark(rev_list, len(rev_list), False)\n",
    "    random_k_last_times.append(k_last_time)\n",
    "    \n",
    "    k_mid_time = benchmark(rev_list, int(len(rev_list)/2), False)\n",
    "    random_k_mid_times.append(k_mid_time)\n",
    "\n",
    "    k_first_time = benchmark(rev_list, 1, False)\n",
    "    random_k_first_times.append(k_first_time)"
   ]
  },
  {
   "cell_type": "code",
   "execution_count": 13,
   "metadata": {},
   "outputs": [
    {
     "data": {
      "text/plain": [
       "<matplotlib.legend.Legend at 0x7efee9c479b0>"
      ]
     },
     "execution_count": 13,
     "metadata": {},
     "output_type": "execute_result"
    },
    {
     "data": {
      "image/png": "[encoded data removed]",
      "text/plain": [
       "<Figure size 432x288 with 1 Axes>"
      ]
     },
     "metadata": {
      "needs_background": "light"
     },
     "output_type": "display_data"
    }
   ],
   "source": [
    "default_x_ticks = range(len(benchmark_sizes))\n",
    "plt.plot(default_x_ticks, random_k_last_times, label=\"k = n\")\n",
    "plt.plot(default_x_ticks, random_k_mid_times, label=\"k = n/2\")\n",
    "plt.plot(default_x_ticks, random_k_first_times, label=\"k = 1\")\n",
    "plt.xticks(default_x_ticks, benchmark_sizes)\n",
    "\n",
    "plt.xlabel(\"List Size\", fontsize=18)\n",
    "plt.ylabel(\"Run Time (s)\", fontsize=18)\n",
    "plt.title(\"random List\", fontsize=20)\n",
    "plt.legend()"
   ]
  },
  {
   "cell_type": "markdown",
   "metadata": {},
   "source": [
    "| Polygon Sides | Runtime (s) |\n",
    "| --- | --- |\n",
    "| 10 | 0.00067 |\n",
    "| 100 | 0.00399 |\n",
    "| 1000 | 0.02511 |\n",
    "| 10000 | 0.17315 |\n",
    "| 100000 | 1.81685 |"
   ]
  },
  {
   "cell_type": "markdown",
   "metadata": {},
   "source": [
    "## 7. Appendix"
   ]
  },
  {
   "cell_type": "markdown",
   "metadata": {},
   "source": [
    "### Test Cases"
   ]
  },
  {
   "cell_type": "markdown",
   "metadata": {},
   "source": [
    "#### Reverse Sorted List (n to 0) finding k = 1"
   ]
  },
  {
   "cell_type": "code",
   "execution_count": 14,
   "metadata": {},
   "outputs": [
    {
     "name": "stdout",
     "output_type": "stream",
     "text": [
      "kth smallest elment: 0\n"
     ]
    }
   ],
   "source": [
    "reverse_list = create_reverse(10)\n",
    "kth_smallest = find_min(1, reverse_list, 0, len(reverse_list) - 1)\n",
    "print(f\"kth smallest elment: {kth_smallest}\")"
   ]
  },
  {
   "cell_type": "markdown",
   "metadata": {},
   "source": [
    "#### Sorted List (0 to n) finding k = 1"
   ]
  },
  {
   "cell_type": "code",
   "execution_count": 15,
   "metadata": {},
   "outputs": [
    {
     "name": "stdout",
     "output_type": "stream",
     "text": [
      "kth smallest elment: 0\n"
     ]
    }
   ],
   "source": [
    "sorted_list = create_sorted(10)\n",
    "kth_smallest = find_min(1, sorted_list, 0, len(sorted_list) - 1)\n",
    "print(f\"kth smallest elment: {kth_smallest}\")"
   ]
  },
  {
   "cell_type": "markdown",
   "metadata": {},
   "source": [
    "#### Random List (n elements) finding k = 1"
   ]
  },
  {
   "cell_type": "code",
   "execution_count": 16,
   "metadata": {},
   "outputs": [
    {
     "name": "stdout",
     "output_type": "stream",
     "text": [
      "kth smallest elment: 0\n"
     ]
    }
   ],
   "source": [
    "random_list = create_random(10)\n",
    "kth_smallest = find_min(1, random_list, 0, len(random_list) - 1)\n",
    "print(f\"kth smallest elment: {kth_smallest}\")"
   ]
  },
  {
   "cell_type": "markdown",
   "metadata": {},
   "source": [
    "#### Reverse Sorted List (n to 0) finding k = n/2"
   ]
  },
  {
   "cell_type": "code",
   "execution_count": 17,
   "metadata": {},
   "outputs": [
    {
     "name": "stdout",
     "output_type": "stream",
     "text": [
      "kth smallest elment: 4\n"
     ]
    }
   ],
   "source": [
    "reverse_list = create_reverse(10)\n",
    "kth_smallest = find_min(int(len(sorted_list)/2), reverse_list, 0, len(reverse_list) - 1)\n",
    "print(f\"kth smallest elment: {kth_smallest}\")"
   ]
  },
  {
   "cell_type": "markdown",
   "metadata": {},
   "source": [
    "#### Sorted List (0 to n) finding k = n/2"
   ]
  },
  {
   "cell_type": "code",
   "execution_count": 18,
   "metadata": {},
   "outputs": [
    {
     "name": "stdout",
     "output_type": "stream",
     "text": [
      "kth smallest elment: 4\n"
     ]
    }
   ],
   "source": [
    "sorted_list = create_sorted(10)\n",
    "kth_smallest = find_min(int(len(sorted_list)/2), sorted_list, 0, len(sorted_list) - 1)\n",
    "print(f\"kth smallest elment: {kth_smallest}\")"
   ]
  },
  {
   "cell_type": "markdown",
   "metadata": {},
   "source": [
    "#### Random List (n elements) finding k = n/2"
   ]
  },
  {
   "cell_type": "code",
   "execution_count": 19,
   "metadata": {},
   "outputs": [
    {
     "name": "stdout",
     "output_type": "stream",
     "text": [
      "kth smallest elment: 4\n"
     ]
    }
   ],
   "source": [
    "random_list = create_random(10)\n",
    "kth_smallest = find_min(int(len(random_list)/2), random_list, 0, len(random_list) - 1)\n",
    "print(f\"kth smallest elment: {kth_smallest}\")"
   ]
  },
  {
   "cell_type": "markdown",
   "metadata": {},
   "source": [
    "#### Reverse Sorted List (n to 0) finding k = n"
   ]
  },
  {
   "cell_type": "code",
   "execution_count": 20,
   "metadata": {},
   "outputs": [
    {
     "name": "stdout",
     "output_type": "stream",
     "text": [
      "kth smallest elment: 9\n"
     ]
    }
   ],
   "source": [
    "reverse_list = create_reverse(10)\n",
    "kth_smallest = find_min(len(reverse_list), reverse_list, 0, len(reverse_list) - 1)\n",
    "print(f\"kth smallest elment: {kth_smallest}\")"
   ]
  },
  {
   "cell_type": "markdown",
   "metadata": {},
   "source": [
    "#### Sorted List (0 to n) finding k = n"
   ]
  },
  {
   "cell_type": "code",
   "execution_count": 21,
   "metadata": {},
   "outputs": [
    {
     "name": "stdout",
     "output_type": "stream",
     "text": [
      "kth smallest elment: 9\n"
     ]
    }
   ],
   "source": [
    "sorted_list = create_sorted(10)\n",
    "kth_smallest = find_min(len(sorted_list), sorted_list, 0, len(sorted_list) - 1)\n",
    "print(f\"kth smallest elment: {kth_smallest}\")"
   ]
  },
  {
   "cell_type": "markdown",
   "metadata": {},
   "source": [
    "#### Random List (n elements) finding k = n"
   ]
  },
  {
   "cell_type": "code",
   "execution_count": 22,
   "metadata": {},
   "outputs": [
    {
     "name": "stdout",
     "output_type": "stream",
     "text": [
      "kth smallest elment: 9\n"
     ]
    }
   ],
   "source": [
    "random_list = create_random(10)\n",
    "kth_smallest = find_min(len(random_list), random_list, 0, len(random_list) - 1)\n",
    "print(f\"kth smallest elment: {kth_smallest}\")"
   ]
  },
  {
   "cell_type": "markdown",
   "metadata": {},
   "source": [
    "## Conclusion\n",
    "\n",
    "Our implementation ran with a time complexity of T(n) = 10 + 19n in O(n) worst and O(1) if there is no polygon to check. Additionally, we created numerous test cases to test our algorithm's accuracy on edge cases such as a polygon having sides that completely encapsulate a target point, as well as a point's horizontal line segment hitting vertexes. Finally, we implemented a method to create an n-sided polygon so that we can test our algorithm's performance. According to our benchmarks, the algorithm ran linearly depending on the number of sides of the polygon, which supports our theoretically-derived run time. "
   ]
  }
 ],
 "metadata": {
  "kernelspec": {
   "display_name": "Python 3",
   "language": "python",
   "name": "python3"
  },
  "language_info": {
   "codemirror_mode": {
    "name": "ipython",
    "version": 3
   },
   "file_extension": ".py",
   "mimetype": "text/x-python",
   "name": "python",
   "nbconvert_exporter": "python",
   "pygments_lexer": "ipython3",
   "version": "3.7.3"
  }
 },
 "nbformat": 4,
 "nbformat_minor": 2
}
