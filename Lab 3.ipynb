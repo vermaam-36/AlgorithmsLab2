{
 "cells": [
  {
   "cell_type": "markdown",
   "metadata": {},
   "source": [
    "# Lab 3: Selection Problem\n",
    "## CS 3851 Algorithms\n",
    "## Amish Verma, Dylan Schultz, Gavin Vaubel, Michael Salgado"
   ]
  },
  {
   "cell_type": "markdown",
   "metadata": {},
   "source": [
    "## Introduction\n"
   ]
  },
  {
   "cell_type": "markdown",
   "metadata": {},
   "source": [
    "## Imports"
   ]
  },
  {
   "cell_type": "code",
   "execution_count": 1,
   "metadata": {},
   "outputs": [],
   "source": [
    "import matplotlib.pyplot as plt\n",
    "import numpy as np\n",
    "import random\n",
    "import time\n",
    "import math"
   ]
  },
  {
   "cell_type": "markdown",
   "metadata": {},
   "source": [
    "## 1. Problem Approach\n"
   ]
  },
  {
   "cell_type": "markdown",
   "metadata": {},
   "source": [
    "## 2. Psuedocode"
   ]
  },
  {
   "cell_type": "code",
   "execution_count": null,
   "metadata": {},
   "outputs": [],
   "source": []
  },
  {
   "cell_type": "markdown",
   "metadata": {},
   "source": [
    "## 3. Explanation and Justification for Algorithm"
   ]
  },
  {
   "cell_type": "markdown",
   "metadata": {},
   "source": [
    "Our algorithm works similar to a regular quick sort with a few changes. Like quick sort with random pivots, a pivot position is selected randomly, and the list is partitioned with less valuable elements to the left and more valuable elements to the right. Where it differs from quick sort is after the list has been partitioned, it checks if the input for k is less than or greater than the pivot index and adjusts the start and end of the list artificially to focus in on a closer section. This is then done recursively until it gets to the point where the pivot after partitioning is equal to k – 1, which accommodates for the 0 based index list.\n",
    "\n",
    "A few problems with this were the original plan we had was to shrink the list instead of changing the start and end indices, and this caused problems with the index being out of bounds sometimes. Then, when we changed to use start and end, there were problem instances where start would be greater than end and throw an error. The solution to this problem was to swap start and end when this happened, which fixed all issues remaining with the code. Now, given any random list of any random size, it will return the expected index and does not sort the entire list to reach it."
   ]
  },
  {
   "cell_type": "markdown",
   "metadata": {},
   "source": [
    "### Implementation"
   ]
  },
  {
   "cell_type": "code",
   "execution_count": 2,
   "metadata": {},
   "outputs": [],
   "source": [
    "def find_min(k, arr, start, end):\n",
    "    if len(arr) >= 1:\n",
    "        if start > end:\n",
    "            start, end = end, start\n",
    "        pickRand(arr, start, end)\n",
    "\n",
    "        pivot = sort_around_pivot(arr[0], arr)\n",
    "        if pivot == k - 1:\n",
    "            return arr[pivot]\n",
    "\n",
    "        if k - 1 < pivot:\n",
    "            return find_min(k, arr, 0, pivot - 1)\n",
    "\n",
    "        else:\n",
    "            return find_min(k, arr, pivot + 1, end - 1)"
   ]
  },
  {
   "cell_type": "code",
   "execution_count": 3,
   "metadata": {},
   "outputs": [],
   "source": [
    "'''\n",
    "function chooses a random pivot position and swaps index 0 with it\n",
    "'''\n",
    "def pickRand(arr, start, end):\n",
    "    randomIndex = random.randint(start, end)\n",
    "    arr[0], arr[randomIndex] = arr[randomIndex], arr[0]\n",
    "    # print(arr)\n",
    "\n",
    "    return"
   ]
  },
  {
   "cell_type": "code",
   "execution_count": 4,
   "metadata": {},
   "outputs": [],
   "source": [
    "'''\n",
    "function will sort around the pivot position putting elements less than pivot\n",
    "to the left and elements greater than on the right\n",
    "code from \n",
    "https://www.geeksforgeeks.org/quicksort-using-random-pivoting/\n",
    "'''\n",
    "\n",
    "\n",
    "def sort_around_pivot(pivot, arr):\n",
    "    start = 0\n",
    "    stop = len(arr) - 1\n",
    "    pivot = start  # pivot\n",
    "\n",
    "    # a variable to memorize where the\n",
    "    i = start + 1\n",
    "\n",
    "    # partition in the array starts from.\n",
    "    for j in range(start + 1, stop + 1):\n",
    "\n",
    "        # if the current element is smaller\n",
    "        # or equal to pivot, shift it to the\n",
    "        # left side of the partition.\n",
    "        if arr[j] <= arr[pivot]:\n",
    "            arr[i], arr[j] = arr[j], arr[i]\n",
    "            i = i + 1\n",
    "    arr[pivot], arr[i - 1] = \\\n",
    "        arr[i - 1], arr[pivot]\n",
    "    pivot = i - 1\n",
    "    return pivot"
   ]
  },
  {
   "cell_type": "markdown",
   "metadata": {},
   "source": [
    "## 4. Test Case Results (where n = 10)\n",
    "\n",
    "Test case runs can be found in the appendix"
   ]
  },
  {
   "cell_type": "markdown",
   "metadata": {},
   "source": [
    "| Test Case | Expected Output | Algorithm Output |\n",
    "| --- | --- | --- |\n",
    "| Reverse Sorted List (n to 0) finding k = 1 | 0 | 0 |\n",
    "| Sorted List (0 to n) finding k = 1 | 0 | 0 |\n",
    "| Random List (n elements) finding k = 1 | 0 | 0 |\n",
    "| Reverse Sorted List (n to 0) finding k = n/2 | 4 | 4 |\n",
    "| Sorted List (0 to n) finding k = n/2 | 4 | 4 |\n",
    "| Random List (n elements) finding k = n/2 | 4 | 4 |\n",
    "| Reverse Sorted List (n to 0) finding k = n | 9 | 9 |\n",
    "| Sorted List (0 to n) finding k = n | 9 | 9 |\n",
    "| Random List (n elements) finding k = n | 9 | 9 |"
   ]
  },
  {
   "cell_type": "markdown",
   "metadata": {},
   "source": [
    "## 5. Analysis using asymptotic notation"
   ]
  },
  {
   "cell_type": "raw",
   "metadata": {},
   "source": [
    "Time Analysis:\n",
    "\n",
    "Recurrance Relations:\n",
    "\n",
    "Our solution revolves around quick sort so \n",
    "we will base our recurrance relations around \n",
    "quick sorts\n",
    "\n",
    "T(q) + T(n - q) + f(n) where f(n) is the partition function\n",
    "\n",
    "Partition function:\n",
    "T(n) = 6 + 5n inside O(n)\n",
    "thus f(n) = n\n",
    "T(q) + T(n - q) + n\n",
    "\n",
    "Worst Case:\n",
    "The worst case occurs when q = 1 and the kth element \n",
    "is not found until the entire list is sorted, rare and hard\n",
    "to produce but theoretically possible thus,\n",
    "T(n) = T(n - 1) + n"
   ]
  },
  {
   "cell_type": "markdown",
   "metadata": {},
   "source": [
    "## 6. Solving recurrence relation"
   ]
  },
  {
   "cell_type": "raw",
   "metadata": {},
   "source": [
    "Substitution:\n",
    "\n",
    "Guess: T(n) is inside O(n^2)\n",
    "\n",
    "Induction Goal:\n",
    "\n",
    "T(n) <= cn^2 for some c and n >= n0\n",
    "\n",
    "Proof of Induction Goal:\n",
    "\n",
    "T(n) = T(n - 1) + n <= c(n-1)^2 + n\n",
    "cn^2 - (2cn - c - n) <= cn^2\n",
    "when 2cn - c - n >= 0 <-> c >= n/(2n - 1) <-> c >= 1/2(2-1/n)\n",
    "for n >= 1 any c >= 1 will work\n",
    "\n",
    "thus T(n) is in O(n^2) and is the worst case of our algorithm\n",
    "\n",
    "Average and Best Case:\n",
    "The average and best case of our algorithm is also similar to quick sorts\n",
    "however, we will stop once we have sorted everything at and before the k - 1 index\n",
    "instead of sorting the entire list\n",
    "thus\n",
    "T(n) = 2T(k/2) + n\n",
    "with best case partitioning q = k/2\n",
    "\n",
    "Master Method:\n",
    "a = 2, b = 2, f(n) = n\n",
    "k^log(2,2) = n = f(n)\n",
    "we have hit case 2\n",
    "thus our algorithm is in\n",
    "bigTheta(k^log(2,2)log(n)) = bigTheta(klogn)"
   ]
  },
  {
   "cell_type": "markdown",
   "metadata": {},
   "source": [
    "## 7. Benchmarking"
   ]
  },
  {
   "cell_type": "code",
   "execution_count": 5,
   "metadata": {},
   "outputs": [],
   "source": [
    "benchmark_sizes = [10, 100, 1000, 10000, 100000]"
   ]
  },
  {
   "cell_type": "code",
   "execution_count": 6,
   "metadata": {},
   "outputs": [],
   "source": [
    "def benchmark(arr, k, method):\n",
    "    if method:\n",
    "        start_time = time.perf_counter()\n",
    "        boringWay(arr, k)\n",
    "        end_time = time.perf_counter()\n",
    "        return end_time - start_time\n",
    "    else:\n",
    "        start_time = time.perf_counter()\n",
    "        find_min(k, arr, 0, len(arr) - 1)\n",
    "        end_time = time.perf_counter()\n",
    "        return end_time - start_time"
   ]
  },
  {
   "cell_type": "markdown",
   "metadata": {},
   "source": [
    "### Creating benchmark lists"
   ]
  },
  {
   "cell_type": "code",
   "execution_count": 7,
   "metadata": {},
   "outputs": [],
   "source": [
    "def create_reverse(n):\n",
    "    arr = []\n",
    "    index = 0\n",
    "    for x in range(n-1, -1, -1):\n",
    "        arr.insert(index, x)\n",
    "        index += 1\n",
    "    return arr\n",
    "\n",
    "def create_sorted(n):\n",
    "    arr = []\n",
    "    for x in range(0, n):\n",
    "        arr.append(x)\n",
    "    return arr\n",
    "\n",
    "def create_random(n):\n",
    "    arr = random.sample(range(0, n), n)\n",
    "    return arr"
   ]
  },
  {
   "cell_type": "markdown",
   "metadata": {},
   "source": [
    "### Benchmarking reverse sorted lists"
   ]
  },
  {
   "cell_type": "code",
   "execution_count": 8,
   "metadata": {},
   "outputs": [],
   "source": [
    "reverse_k_last_times = []\n",
    "reverse_k_mid_times = []\n",
    "reverse_k_first_times = []\n",
    "\n",
    "for size in benchmark_sizes:\n",
    "    rev_list = create_reverse(size)\n",
    "    \n",
    "    k_last_time = benchmark(rev_list, len(rev_list), False)\n",
    "    reverse_k_last_times.append(k_last_time)\n",
    "    \n",
    "    k_mid_time = benchmark(rev_list, int(len(rev_list)/2), False)\n",
    "    reverse_k_mid_times.append(k_mid_time)\n",
    "\n",
    "    k_first_time = benchmark(rev_list, 1, False)\n",
    "    reverse_k_first_times.append(k_first_time)"
   ]
  },
  {
   "cell_type": "code",
   "execution_count": 9,
   "metadata": {},
   "outputs": [
    {
     "name": "stdout",
     "output_type": "stream",
     "text": [
      "[5.5625103414058685e-05, 0.0009489757940173149, 0.002800227142870426, 0.03741265460848808, 0.2291191490367055]\n",
      "[4.505272954702377e-05, 7.944926619529724e-05, 0.002539614215493202, 0.05216500349342823, 0.6799194263294339]\n",
      "[3.709271550178528e-05, 5.4195523262023926e-05, 0.0004519158974289894, 0.004158694297075272, 0.07386924047023058]\n"
     ]
    },
    {
     "data": {
      "image/png": "[encoded data removed]",
      "text/plain": [
       "<Figure size 432x288 with 1 Axes>"
      ]
     },
     "metadata": {
      "needs_background": "light"
     },
     "output_type": "display_data"
    }
   ],
   "source": [
    "default_x_ticks = range(len(benchmark_sizes))\n",
    "plt.plot(default_x_ticks, reverse_k_last_times, label=\"k = n\")\n",
    "plt.plot(default_x_ticks, reverse_k_mid_times, label=\"k = n/2\")\n",
    "plt.plot(default_x_ticks, reverse_k_first_times, label=\"k = 1\")\n",
    "plt.xticks(default_x_ticks, benchmark_sizes)\n",
    "\n",
    "plt.xlabel(\"List Size\", fontsize=18)\n",
    "plt.ylabel(\"Run Time (s)\", fontsize=18)\n",
    "plt.title(\"Reverse Sorted List\", fontsize=20)\n",
    "plt.legend()\n",
    "\n",
    "print(reverse_k_last_times)\n",
    "print(reverse_k_mid_times)\n",
    "print(reverse_k_first_times)"
   ]
  },
  {
   "cell_type": "markdown",
   "metadata": {},
   "source": [
    "### Benchmarking sorted lists"
   ]
  },
  {
   "cell_type": "code",
   "execution_count": 10,
   "metadata": {},
   "outputs": [],
   "source": [
    "sorted_k_last_times = []\n",
    "sorted_k_mid_times = []\n",
    "sorted_k_first_times = []\n",
    "\n",
    "for size in benchmark_sizes:\n",
    "    rev_list = create_sorted(size)\n",
    "    \n",
    "    k_last_time = benchmark(rev_list, len(rev_list), False)\n",
    "    sorted_k_last_times.append(k_last_time)\n",
    "    \n",
    "    k_mid_time = benchmark(rev_list, int(len(rev_list)/2), False)\n",
    "    sorted_k_mid_times.append(k_mid_time)\n",
    "\n",
    "    k_first_time = benchmark(rev_list, 1, False)\n",
    "    sorted_k_first_times.append(k_first_time)"
   ]
  },
  {
   "cell_type": "code",
   "execution_count": 11,
   "metadata": {},
   "outputs": [
    {
     "name": "stdout",
     "output_type": "stream",
     "text": [
      "[1.6461126506328583e-05, 0.00022418517619371414, 0.006902381777763367, 0.05671084392815828, 0.2988506807014346]\n",
      "[1.0920688509941101e-05, 0.00023573916405439377, 0.0036371424794197083, 0.03326281160116196, 1.0438894219696522]\n",
      "[4.002824425697327e-06, 6.204098463058472e-05, 0.0005011390894651413, 0.005317394621670246, 0.09813107550144196]\n"
     ]
    },
    {
     "data": {
      "image/png": "[encoded data removed]",
      "text/plain": [
       "<Figure size 432x288 with 1 Axes>"
      ]
     },
     "metadata": {
      "needs_background": "light"
     },
     "output_type": "display_data"
    }
   ],
   "source": [
    "default_x_ticks = range(len(benchmark_sizes))\n",
    "plt.plot(default_x_ticks, sorted_k_last_times, label=\"k = n\")\n",
    "plt.plot(default_x_ticks, sorted_k_mid_times, label=\"k = n/2\")\n",
    "plt.plot(default_x_ticks, sorted_k_first_times, label=\"k = 1\")\n",
    "plt.xticks(default_x_ticks, benchmark_sizes)\n",
    "\n",
    "plt.xlabel(\"List Size\", fontsize=18)\n",
    "plt.ylabel(\"Run Time (s)\", fontsize=18)\n",
    "plt.title(\"Sorted List\", fontsize=20)\n",
    "plt.legend()\n",
    "\n",
    "print(sorted_k_last_times)\n",
    "print(sorted_k_mid_times)\n",
    "print(sorted_k_first_times)"
   ]
  },
  {
   "cell_type": "markdown",
   "metadata": {},
   "source": [
    "### Benchmarking random lists"
   ]
  },
  {
   "cell_type": "code",
   "execution_count": 12,
   "metadata": {},
   "outputs": [],
   "source": [
    "random_k_last_times = []\n",
    "random_k_mid_times = []\n",
    "random_k_first_times = []\n",
    "\n",
    "for size in benchmark_sizes:\n",
    "    rev_list = create_random(size)\n",
    "    \n",
    "    k_last_time = benchmark(rev_list, len(rev_list), False)\n",
    "    random_k_last_times.append(k_last_time)\n",
    "    \n",
    "    k_mid_time = benchmark(rev_list, int(len(rev_list)/2), False)\n",
    "    random_k_mid_times.append(k_mid_time)\n",
    "\n",
    "    k_first_time = benchmark(rev_list, 1, False)\n",
    "    random_k_first_times.append(k_first_time)"
   ]
  },
  {
   "cell_type": "code",
   "execution_count": 13,
   "metadata": {},
   "outputs": [
    {
     "name": "stdout",
     "output_type": "stream",
     "text": [
      "[2.0128674805164337e-05, 0.00016700569540262222, 0.00102296844124794, 0.019425027072429657, 0.37871404830366373]\n",
      "[1.7721205949783325e-05, 9.55658033490181e-05, 0.002228471450507641, 0.043844196014106274, 1.508104600943625]\n",
      "[1.152046024799347e-05, 0.00011646188795566559, 0.00048214104026556015, 0.004935812205076218, 0.0529730012640357]\n"
     ]
    },
    {
     "data": {
      "image/png": "[encoded data removed]",
      "text/plain": [
       "<Figure size 432x288 with 1 Axes>"
      ]
     },
     "metadata": {
      "needs_background": "light"
     },
     "output_type": "display_data"
    }
   ],
   "source": [
    "default_x_ticks = range(len(benchmark_sizes))\n",
    "plt.plot(default_x_ticks, random_k_last_times, label=\"k = n\")\n",
    "plt.plot(default_x_ticks, random_k_mid_times, label=\"k = n/2\")\n",
    "plt.plot(default_x_ticks, random_k_first_times, label=\"k = 1\")\n",
    "plt.xticks(default_x_ticks, benchmark_sizes)\n",
    "\n",
    "plt.xlabel(\"List Size\", fontsize=18)\n",
    "plt.ylabel(\"Run Time (s)\", fontsize=18)\n",
    "plt.title(\"Random List\", fontsize=20)\n",
    "plt.legend()\n",
    "\n",
    "print(random_k_last_times)\n",
    "print(random_k_mid_times)\n",
    "print(random_k_first_times)"
   ]
  },
  {
   "cell_type": "code",
   "execution_count": 14,
   "metadata": {},
   "outputs": [
    {
     "name": "stdout",
     "output_type": "stream",
     "text": [
      "[1.7721205949783325e-05, 9.55658033490181e-05, 0.002228471450507641, 0.043844196014106274, 1.508104600943625]\n"
     ]
    }
   ],
   "source": [
    "print(random_k_mid_times)"
   ]
  },
  {
   "cell_type": "markdown",
   "metadata": {},
   "source": [
    "### Benchmarking Quicksort"
   ]
  },
  {
   "cell_type": "code",
   "execution_count": 15,
   "metadata": {},
   "outputs": [],
   "source": [
    "def boringWay(arr, k):\n",
    "    quick_sort(arr, 0, len(arr) - 1)\n",
    "    # print(arr)\n",
    "    return arr[k - 1]\n",
    "\n",
    "def quick_sort(array, low, high):\n",
    "    if low < high:\n",
    " \n",
    "        # Find pivot element such that\n",
    "        # element smaller than pivot are on the left\n",
    "        # element greater than pivot are on the right\n",
    "        pi = partition(array, low, high)\n",
    "\n",
    "        # Recursive call on the left of pivot\n",
    "        return quick_sort(array, low, pi - 1)\n",
    "\n",
    "        # Recursive call on the right of pivot\n",
    "        return quick_sort(array, pi + 1, high)\n",
    "        \n",
    "def partition(array, low, high):\n",
    " \n",
    "  # Choose the rightmost element as pivot\n",
    "    pivot = array[high]\n",
    " \n",
    "    # Pointer for greater element\n",
    "    i = low - 1\n",
    "\n",
    "    # Traverse through all elements\n",
    "    # compare each element with pivot\n",
    "    for j in range(low, high):\n",
    "        if array[j] <= pivot:\n",
    "          # If element smaller than pivot is found\n",
    "          # swap it with the greater element pointed by i\n",
    "            i = i + 1\n",
    "\n",
    "          # Swapping element at i with element at j\n",
    "            (array[i], array[j]) = (array[j], array[i])\n",
    "\n",
    "        # Swap the pivot element with the greater element specified by i\n",
    "        (array[i + 1], array[high]) = (array[high], array[i + 1])\n",
    "\n",
    "    # Return the position from where partition is done\n",
    "    return i + 1"
   ]
  },
  {
   "cell_type": "code",
   "execution_count": 16,
   "metadata": {},
   "outputs": [],
   "source": [
    "quick_random_k_last_times = []\n",
    "quick_random_k_mid_times = []\n",
    "quick_random_k_first_times = []\n",
    "\n",
    "for size in benchmark_sizes:\n",
    "    rev_list = create_random(size)\n",
    "    \n",
    "    k_last_time = benchmark(rev_list, len(rev_list), True)\n",
    "    quick_random_k_last_times.append(k_last_time)\n",
    "    \n",
    "    k_mid_time = benchmark(rev_list, int(len(rev_list)/2), True)\n",
    "    quick_random_k_mid_times.append(k_mid_time)\n",
    "\n",
    "    k_first_time = benchmark(rev_list, 1, False)\n",
    "    quick_random_k_first_times.append(k_first_time)"
   ]
  },
  {
   "cell_type": "code",
   "execution_count": 17,
   "metadata": {},
   "outputs": [
    {
     "name": "stdout",
     "output_type": "stream",
     "text": [
      "[7.754191756248474e-06, 2.356152981519699e-05, 0.000627296045422554, 0.0077174948528409, 0.05153436679393053]\n",
      "[8.0866739153862e-06, 0.00010454561561346054, 0.0020000627264380455, 0.022257030941545963, 0.2912059584632516]\n",
      "[2.0291656255722046e-05, 2.308003604412079e-05, 0.0004566274583339691, 0.00598579365760088, 0.08971527498215437]\n"
     ]
    },
    {
     "data": {
      "image/png": "[encoded data removed]",
      "text/plain": [
       "<Figure size 432x288 with 1 Axes>"
      ]
     },
     "metadata": {
      "needs_background": "light"
     },
     "output_type": "display_data"
    }
   ],
   "source": [
    "default_x_ticks = range(len(benchmark_sizes))\n",
    "plt.plot(default_x_ticks, quick_random_k_last_times, label=\"k = n\")\n",
    "plt.plot(default_x_ticks, quick_random_k_mid_times, label=\"k = n/2\")\n",
    "plt.plot(default_x_ticks, quick_random_k_first_times, label=\"k = 1\")\n",
    "plt.xticks(default_x_ticks, benchmark_sizes)\n",
    "\n",
    "plt.xlabel(\"List Size\", fontsize=18)\n",
    "plt.ylabel(\"Run Time (s)\", fontsize=18)\n",
    "plt.title(\"Random List (Quicksort)\", fontsize=20)\n",
    "plt.legend()\n",
    "\n",
    "print(quick_random_k_last_times)\n",
    "print(quick_random_k_mid_times)\n",
    "print(quick_random_k_first_times)"
   ]
  },
  {
   "cell_type": "markdown",
   "metadata": {},
   "source": [
    "| Test Case | Runtime (List size: 10) | Runtime (List size: 100) | Runtime (List size: 1,000) | Runtime (List size: 10,000) | Runtime (List size: 100,000) |\n",
    "| --- | --- | --- | --- | --- | --- |\n",
    "| Reverse Sorted List (n to 0) finding k = 1 | 5.56e-06 | 9.49e-04 | 0.00280 | 0.0374 | 0.229 |\n",
    "| Sorted List (0 to n) finding k = 1 | 4.50e-05 | 7.945e-05 | 0.00253 | 0.0522 | 0.679 |\n",
    "| Random List (n elements) finding k = 1 | 3.709e-05 | 5.42e-05 | 4.52e-04 | 0.00416 | 0.0739 |\n",
    "| Reverse Sorted List (n to 0) finding k = n/2 | 1.646e-05 | 2.24e-04 | 0.0069 | 0.0567 | 0.299 |\n",
    "| Sorted List (0 to n) finding k = n/2 | 1.09e-05 | 2.36e-04 | 0.00363 | 0.0333 | 1.044 |\n",
    "| Random List (n elements) finding k = n/2 | 4.003e-06 | 6.20e-05 | 5.01e-04 | 0.0053 | 0.0981 |\n",
    "| Reverse Sorted List (n to 0) finding k = n | 2.01e-05 | 1.67e-4 | 0.001 | 0.0194 | 0.379 |\n",
    "| Sorted List (0 to n) finding k = n | 1.77e-05 | 9.557e-05 | 0.0022 | 0.0438 | 1.508 |\n",
    "| Random List (n elements) finding k = n | 1.152e-05 | 1.16e-04 | 4.82e-03 | 0.0049 | 0.053 |"
   ]
  },
  {
   "cell_type": "markdown",
   "metadata": {},
   "source": [
    "## 7. Appendix"
   ]
  },
  {
   "cell_type": "markdown",
   "metadata": {},
   "source": [
    "### Test Cases"
   ]
  },
  {
   "cell_type": "markdown",
   "metadata": {},
   "source": [
    "#### Reverse Sorted List (n to 0) finding k = 1"
   ]
  },
  {
   "cell_type": "code",
   "execution_count": 18,
   "metadata": {},
   "outputs": [
    {
     "name": "stdout",
     "output_type": "stream",
     "text": [
      "kth smallest elment: 0\n"
     ]
    }
   ],
   "source": [
    "reverse_list = create_reverse(10)\n",
    "kth_smallest = find_min(1, reverse_list, 0, len(reverse_list) - 1)\n",
    "print(f\"kth smallest elment: {kth_smallest}\")"
   ]
  },
  {
   "cell_type": "markdown",
   "metadata": {},
   "source": [
    "#### Sorted List (0 to n) finding k = 1"
   ]
  },
  {
   "cell_type": "code",
   "execution_count": 19,
   "metadata": {},
   "outputs": [
    {
     "name": "stdout",
     "output_type": "stream",
     "text": [
      "kth smallest elment: 0\n"
     ]
    }
   ],
   "source": [
    "sorted_list = create_sorted(10)\n",
    "kth_smallest = find_min(1, sorted_list, 0, len(sorted_list) - 1)\n",
    "print(f\"kth smallest elment: {kth_smallest}\")"
   ]
  },
  {
   "cell_type": "markdown",
   "metadata": {},
   "source": [
    "#### Random List (n elements) finding k = 1"
   ]
  },
  {
   "cell_type": "code",
   "execution_count": 20,
   "metadata": {},
   "outputs": [
    {
     "name": "stdout",
     "output_type": "stream",
     "text": [
      "kth smallest elment: 0\n"
     ]
    }
   ],
   "source": [
    "random_list = create_random(10)\n",
    "kth_smallest = find_min(1, random_list, 0, len(random_list) - 1)\n",
    "print(f\"kth smallest elment: {kth_smallest}\")"
   ]
  },
  {
   "cell_type": "markdown",
   "metadata": {},
   "source": [
    "#### Reverse Sorted List (n to 0) finding k = n/2"
   ]
  },
  {
   "cell_type": "code",
   "execution_count": 21,
   "metadata": {},
   "outputs": [
    {
     "name": "stdout",
     "output_type": "stream",
     "text": [
      "kth smallest elment: 4\n"
     ]
    }
   ],
   "source": [
    "reverse_list = create_reverse(10)\n",
    "kth_smallest = find_min(int(len(sorted_list)/2), reverse_list, 0, len(reverse_list) - 1)\n",
    "print(f\"kth smallest elment: {kth_smallest}\")"
   ]
  },
  {
   "cell_type": "markdown",
   "metadata": {},
   "source": [
    "#### Sorted List (0 to n) finding k = n/2"
   ]
  },
  {
   "cell_type": "code",
   "execution_count": 22,
   "metadata": {},
   "outputs": [
    {
     "name": "stdout",
     "output_type": "stream",
     "text": [
      "kth smallest elment: 4\n"
     ]
    }
   ],
   "source": [
    "sorted_list = create_sorted(10)\n",
    "kth_smallest = find_min(int(len(sorted_list)/2), sorted_list, 0, len(sorted_list) - 1)\n",
    "print(f\"kth smallest elment: {kth_smallest}\")"
   ]
  },
  {
   "cell_type": "markdown",
   "metadata": {},
   "source": [
    "#### Random List (n elements) finding k = n/2"
   ]
  },
  {
   "cell_type": "code",
   "execution_count": 23,
   "metadata": {},
   "outputs": [
    {
     "name": "stdout",
     "output_type": "stream",
     "text": [
      "kth smallest elment: 4\n"
     ]
    }
   ],
   "source": [
    "random_list = create_random(10)\n",
    "kth_smallest = find_min(int(len(random_list)/2), random_list, 0, len(random_list) - 1)\n",
    "print(f\"kth smallest elment: {kth_smallest}\")"
   ]
  },
  {
   "cell_type": "markdown",
   "metadata": {},
   "source": [
    "#### Reverse Sorted List (n to 0) finding k = n"
   ]
  },
  {
   "cell_type": "code",
   "execution_count": 24,
   "metadata": {},
   "outputs": [
    {
     "name": "stdout",
     "output_type": "stream",
     "text": [
      "kth smallest elment: 9\n"
     ]
    }
   ],
   "source": [
    "reverse_list = create_reverse(10)\n",
    "kth_smallest = find_min(len(reverse_list), reverse_list, 0, len(reverse_list) - 1)\n",
    "print(f\"kth smallest elment: {kth_smallest}\")"
   ]
  },
  {
   "cell_type": "markdown",
   "metadata": {},
   "source": [
    "#### Sorted List (0 to n) finding k = n"
   ]
  },
  {
   "cell_type": "code",
   "execution_count": 25,
   "metadata": {},
   "outputs": [
    {
     "name": "stdout",
     "output_type": "stream",
     "text": [
      "kth smallest elment: 9\n"
     ]
    }
   ],
   "source": [
    "sorted_list = create_sorted(10)\n",
    "kth_smallest = find_min(len(sorted_list), sorted_list, 0, len(sorted_list) - 1)\n",
    "print(f\"kth smallest elment: {kth_smallest}\")"
   ]
  },
  {
   "cell_type": "markdown",
   "metadata": {},
   "source": [
    "#### Random List (n elements) finding k = n"
   ]
  },
  {
   "cell_type": "code",
   "execution_count": 26,
   "metadata": {},
   "outputs": [
    {
     "name": "stdout",
     "output_type": "stream",
     "text": [
      "kth smallest elment: 9\n"
     ]
    }
   ],
   "source": [
    "random_list = create_random(10)\n",
    "kth_smallest = find_min(len(random_list), random_list, 0, len(random_list) - 1)\n",
    "print(f\"kth smallest elment: {kth_smallest}\")"
   ]
  },
  {
   "cell_type": "markdown",
   "metadata": {},
   "source": [
    "## Conclusion"
   ]
  }
 ],
 "metadata": {
  "kernelspec": {
   "display_name": "Python 3",
   "language": "python",
   "name": "python3"
  },
  "language_info": {
   "codemirror_mode": {
    "name": "ipython",
    "version": 3
   },
   "file_extension": ".py",
   "mimetype": "text/x-python",
   "name": "python",
   "nbconvert_exporter": "python",
   "pygments_lexer": "ipython3",
   "version": "3.7.3"
  }
 },
 "nbformat": 4,
 "nbformat_minor": 2
}
